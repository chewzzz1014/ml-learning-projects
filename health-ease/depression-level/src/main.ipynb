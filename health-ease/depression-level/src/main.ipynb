{
 "cells": [
  {
   "cell_type": "markdown",
   "id": "194379f2",
   "metadata": {},
   "source": [
    "## Depression Level Prediction"
   ]
  },
  {
   "cell_type": "code",
   "execution_count": 24,
   "id": "a72d9b40",
   "metadata": {},
   "outputs": [],
   "source": [
    "import pandas as pd\n",
    "from sklearn.model_selection import train_test_split\n",
    "from sklearn.feature_extraction.text import CountVectorizer\n",
    "from sklearn.tree import DecisionTreeClassifier\n",
    "from sklearn.metrics import accuracy_score, classification_report\n",
    "from sklearn import metrics\n",
    "import numpy as np"
   ]
  },
  {
   "cell_type": "code",
   "execution_count": 2,
   "id": "44794a8e",
   "metadata": {},
   "outputs": [],
   "source": [
    "train_data = pd.read_csv('../datasets/train.csv')\n",
    "test_data = pd.read_csv('../datasets/test.csv')\n",
    "\n",
    "X_train = train_data['text']\n",
    "y_train = train_data['labels']\n",
    "X_test = test_data['text']\n",
    "y_test = test_data['labels']\n",
    "\n",
    "vectorizer = CountVectorizer()\n",
    "X_train_vectorized = vectorizer.fit_transform(X_train)\n",
    "X_test_vectorized = vectorizer.transform(X_test)"
   ]
  },
  {
   "cell_type": "code",
   "execution_count": 17,
   "id": "68ae511f",
   "metadata": {},
   "outputs": [
    {
     "name": "stdout",
     "output_type": "stream",
     "text": [
      "Accuracy: 0.51\n",
      "              precision    recall  f1-score   support\n",
      "\n",
      "           0       0.20      0.26      0.22       228\n",
      "           1       0.70      0.57      0.63      2169\n",
      "           2       0.31      0.43      0.36       848\n",
      "\n",
      "    accuracy                           0.51      3245\n",
      "   macro avg       0.40      0.42      0.40      3245\n",
      "weighted avg       0.56      0.51      0.53      3245\n",
      "\n"
     ]
    }
   ],
   "source": [
    "# sklearn decision tree classifier: default settings\n",
    "clf1 = DecisionTreeClassifier()\n",
    "clf1.fit(X_train_vectorized, y_train)\n",
    "\n",
    "y_pred = clf1.predict(X_test_vectorized)\n",
    "accuracy = accuracy_score(y_test, y_pred)\n",
    "print(f'Accuracy: {accuracy:.2f}')\n",
    "print(classification_report(y_test, y_pred))"
   ]
  },
  {
   "cell_type": "code",
   "execution_count": 18,
   "id": "fe3e25cd",
   "metadata": {},
   "outputs": [
    {
     "name": "stdout",
     "output_type": "stream",
     "text": [
      "Accuracy: 0.64\n",
      "              precision    recall  f1-score   support\n",
      "\n",
      "           0       0.26      0.11      0.15       228\n",
      "           1       0.69      0.86      0.76      2169\n",
      "           2       0.40      0.21      0.28       848\n",
      "\n",
      "    accuracy                           0.64      3245\n",
      "   macro avg       0.45      0.39      0.40      3245\n",
      "weighted avg       0.58      0.64      0.59      3245\n",
      "\n"
     ]
    }
   ],
   "source": [
    "# sklearn decision tree classifier:\n",
    "clf2 = DecisionTreeClassifier(criterion=\"gini\", max_depth=5)\n",
    "clf2 = clf2.fit(X_train_vectorized,y_train)\n",
    "\n",
    "y_pred = clf2.predict(X_test_vectorized)\n",
    "print(f\"Accuracy: {metrics.accuracy_score(y_test, y_pred):.2f}\")\n",
    "print(classification_report(y_test, y_pred))"
   ]
  },
  {
   "cell_type": "code",
   "execution_count": 55,
   "id": "6c0166a9",
   "metadata": {},
   "outputs": [
    {
     "name": "stdout",
     "output_type": "stream",
     "text": [
      "Accuracy: 0.64\n",
      "              precision    recall  f1-score   support\n",
      "\n",
      "           0       0.26      0.11      0.15       228\n",
      "           1       0.69      0.86      0.76      2169\n",
      "           2       0.40      0.21      0.28       848\n",
      "\n",
      "    accuracy                           0.64      3245\n",
      "   macro avg       0.45      0.39      0.40      3245\n",
      "weighted avg       0.58      0.64      0.59      3245\n",
      "\n"
     ]
    }
   ],
   "source": [
    "from sklearn.neural_network import MLPClassifier\n",
    "from sklearn import preprocessing\n",
    "\n",
    "# increased max_iter (default=200)\n",
    "clf3 = MLPClassifier(solver='lbfgs', alpha=1e-5,\n",
    "                    hidden_layer_sizes=(5, 2), random_state=1, max_iter=5000)\n",
    "clf3.fit(X_train_vectorized,y_train)\n",
    "\n",
    "y_pred = clf2.predict(X_test_vectorized)\n",
    "print(f\"Accuracy: {metrics.accuracy_score(y_test, y_pred):.2f}\")\n",
    "print(classification_report(y_test, y_pred))"
   ]
  },
  {
   "cell_type": "code",
   "execution_count": 60,
   "id": "890cb65b",
   "metadata": {},
   "outputs": [],
   "source": [
    "input_text = '''\n",
    "I'm hopeless.\n",
    "'''"
   ]
  },
  {
   "cell_type": "code",
   "execution_count": 61,
   "id": "75fae71d",
   "metadata": {},
   "outputs": [
    {
     "name": "stdout",
     "output_type": "stream",
     "text": [
      "DT classifier 1 Not depressed\n",
      "DT classifier 2 Not depressed\n",
      "NN classifier 3 Moderately depressed\n"
     ]
    }
   ],
   "source": [
    "classes = {'2': 'Not depressed', '1': 'Moderately depressed', '0': 'Severely depressed'}\n",
    "\n",
    "input_vector = vectorizer.transform([input_text])\n",
    "\n",
    "my_testing =  clf1.predict(input_vector)\n",
    "print(f'DT classifier 1 {classes[str(my_testing[0])]}')\n",
    "\n",
    "my_testing =  clf2.predict(input_vector)\n",
    "print(f'DT classifier 2 {classes[str(my_testing[0])]}')\n",
    "\n",
    "my_testing =  clf3.predict(input_vector)\n",
    "print(f'NN classifier 3 {classes[str(my_testing[0])]}')"
   ]
  }
 ],
 "metadata": {
  "kernelspec": {
   "display_name": "Python 3 (ipykernel)",
   "language": "python",
   "name": "python3"
  },
  "language_info": {
   "codemirror_mode": {
    "name": "ipython",
    "version": 3
   },
   "file_extension": ".py",
   "mimetype": "text/x-python",
   "name": "python",
   "nbconvert_exporter": "python",
   "pygments_lexer": "ipython3",
   "version": "3.10.0"
  }
 },
 "nbformat": 4,
 "nbformat_minor": 5
}
