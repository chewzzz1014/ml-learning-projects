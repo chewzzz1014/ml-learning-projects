{
 "cells": [
  {
   "cell_type": "markdown",
   "id": "c7fe7afa",
   "metadata": {},
   "source": [
    "## Classifying Iris Species: Three-class classification "
   ]
  },
  {
   "cell_type": "code",
   "execution_count": null,
   "id": "65257a09",
   "metadata": {},
   "outputs": [],
   "source": [
    "# load data\n",
    "from sklearn.datasets import load_iris\n",
    "iris_dataset = load_iris()"
   ]
  }
 ],
 "metadata": {
  "kernelspec": {
   "display_name": "Python 3 (ipykernel)",
   "language": "python",
   "name": "python3"
  },
  "language_info": {
   "codemirror_mode": {
    "name": "ipython",
    "version": 3
   },
   "file_extension": ".py",
   "mimetype": "text/x-python",
   "name": "python",
   "nbconvert_exporter": "python",
   "pygments_lexer": "ipython3",
   "version": "3.10.0"
  }
 },
 "nbformat": 4,
 "nbformat_minor": 5
}
