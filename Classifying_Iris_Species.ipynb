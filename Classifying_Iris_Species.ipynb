{
 "cells": [
  {
   "cell_type": "markdown",
   "id": "91b9139b",
   "metadata": {},
   "source": [
    "## Classifying Iris Species: Three-class classification "
   ]
  },
  {
   "cell_type": "markdown",
   "id": "15fe1540",
   "metadata": {},
   "source": [
    "## Load and Inspect dataset"
   ]
  },
  {
   "cell_type": "code",
   "execution_count": 1,
   "id": "3d47592b",
   "metadata": {},
   "outputs": [],
   "source": [
    "# load data\n",
    "from sklearn.datasets import load_iris\n",
    "iris_dataset = load_iris() # return Bunch object (has key and values pairs)"
   ]
  },
  {
   "cell_type": "code",
   "execution_count": 3,
   "id": "06b8eac1",
   "metadata": {},
   "outputs": [
    {
     "name": "stdout",
     "output_type": "stream",
     "text": [
      "Keys of iris_dataset: \n",
      "dict_keys(['data', 'target', 'frame', 'target_names', 'DESCR', 'feature_names', 'filename', 'data_module'])\n"
     ]
    }
   ],
   "source": [
    "# check data\n",
    "print('Keys of iris_dataset: \\n{}'.format(iris_dataset.keys()))"
   ]
  },
  {
   "cell_type": "code",
   "execution_count": 6,
   "id": "3a2bb3f5",
   "metadata": {},
   "outputs": [
    {
     "name": "stdout",
     "output_type": "stream",
     "text": [
      ".. _iris_dataset:\n",
      "\n",
      "Iris plants dataset\n",
      "--------------------\n",
      "\n",
      "**Data Set Characteristics:**\n",
      "\n",
      "    :Number of Instances: 150 (50 in each of three classes)\n",
      "    :Number of Attributes: 4 numeric, pre\n",
      "...\n"
     ]
    }
   ],
   "source": [
    "# print description of dataset\n",
    "print(iris_dataset['DESCR'][:193] + '\\n...')"
   ]
  },
  {
   "cell_type": "code",
   "execution_count": 12,
   "id": "51e4e860",
   "metadata": {},
   "outputs": [
    {
     "name": "stdout",
     "output_type": "stream",
     "text": [
      "Target names: ['setosa' 'versicolor' 'virginica']\n",
      "Feature names: \n",
      "['sepal length (cm)', 'sepal width (cm)', 'petal length (cm)', 'petal width (cm)']\n"
     ]
    }
   ],
   "source": [
    "# targets and features\n",
    "print(\"Target names: {}\".format(iris_dataset['target_names']))\n",
    "print(\"Feature names: \\n{}\".format(iris_dataset['feature_names']))"
   ]
  },
  {
   "cell_type": "code",
   "execution_count": 16,
   "id": "50b451c9",
   "metadata": {},
   "outputs": [
    {
     "name": "stdout",
     "output_type": "stream",
     "text": [
      "Type of data: <class 'numpy.ndarray'>\n",
      "Shape of data: (150, 4)\n",
      "First five columns of data:\n",
      "[[5.1 3.5 1.4 0.2]\n",
      " [4.9 3.  1.4 0.2]\n",
      " [4.7 3.2 1.3 0.2]\n",
      " [4.6 3.1 1.5 0.2]\n",
      " [5.  3.6 1.4 0.2]]\n"
     ]
    }
   ],
   "source": [
    "# type of data\n",
    "print(\"Type of data: {}\".format(type(iris_dataset['data'])))\n",
    "\n",
    "# shape of data: 150 flowers each with 4 measurements\n",
    "print(\"Shape of data: {}\".format(iris_dataset['data'].shape))\n",
    "\n",
    "print(\"First five columns of data:\\n{}\".format(iris_dataset['data'][:5]))"
   ]
  },
  {
   "cell_type": "code",
   "execution_count": 18,
   "id": "91a30c75",
   "metadata": {},
   "outputs": [
    {
     "name": "stdout",
     "output_type": "stream",
     "text": [
      "Type of target: <class 'numpy.ndarray'>\n",
      "Shape of target: (150,)\n",
      "First five columns of target:\n",
      "[0 0 0 0 0 0 0 0 0 0 0 0 0 0 0 0 0 0 0 0 0 0 0 0 0 0 0 0 0 0 0 0 0 0 0 0 0\n",
      " 0 0 0 0 0 0 0 0 0 0 0 0 0 1 1 1 1 1 1 1 1 1 1 1 1 1 1 1 1 1 1 1 1 1 1 1 1\n",
      " 1 1 1 1 1 1 1 1 1 1 1 1 1 1 1 1 1 1 1 1 1 1 1 1 1 1 2 2 2 2 2 2 2 2 2 2 2\n",
      " 2 2 2 2 2 2 2 2 2 2 2 2 2 2 2 2 2 2 2 2 2 2 2 2 2 2 2 2 2 2 2 2 2 2 2 2 2\n",
      " 2 2]\n"
     ]
    }
   ],
   "source": [
    "# type of data\n",
    "print(\"Type of target: {}\".format(type(iris_dataset['target'])))\n",
    "\n",
    "# shape of data: 150 flowers each with 4 measurements\n",
    "print(\"Shape of target: {}\".format(iris_dataset['target'].shape))\n",
    "\n",
    "print(\"First five columns of target:\\n{}\".format(iris_dataset['target']))"
   ]
  },
  {
   "cell_type": "markdown",
   "id": "37ac0af4",
   "metadata": {},
   "source": [
    "**0 => Setosa**\n",
    "\n",
    "**1 => versicolor**\n",
    "\n",
    "**2 => virginica**"
   ]
  },
  {
   "cell_type": "code",
   "execution_count": null,
   "id": "02edb4eb",
   "metadata": {},
   "outputs": [],
   "source": []
  },
  {
   "cell_type": "code",
   "execution_count": null,
   "id": "a8490595",
   "metadata": {},
   "outputs": [],
   "source": []
  },
  {
   "cell_type": "code",
   "execution_count": null,
   "id": "fcb68d16",
   "metadata": {},
   "outputs": [],
   "source": []
  }
 ],
 "metadata": {
  "kernelspec": {
   "display_name": "Python 3 (ipykernel)",
   "language": "python",
   "name": "python3"
  },
  "language_info": {
   "codemirror_mode": {
    "name": "ipython",
    "version": 3
   },
   "file_extension": ".py",
   "mimetype": "text/x-python",
   "name": "python",
   "nbconvert_exporter": "python",
   "pygments_lexer": "ipython3",
   "version": "3.10.0"
  }
 },
 "nbformat": 4,
 "nbformat_minor": 5
}
